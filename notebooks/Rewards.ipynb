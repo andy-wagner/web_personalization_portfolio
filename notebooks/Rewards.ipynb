{
  "nbformat": 4,
  "nbformat_minor": 0,
  "metadata": {
    "colab": {
      "name": "Rewards.ipynb",
      "version": "0.3.2",
      "provenance": []
    },
    "kernelspec": {
      "name": "python3",
      "display_name": "Python 3"
    },
    "accelerator": "GPU"
  },
  "cells": [
    {
      "cell_type": "code",
      "metadata": {
        "id": "VkpAJsDepLHm",
        "colab_type": "code",
        "colab": {}
      },
      "source": [
        "!pip install -U -q PyDrive\n",
        "from pydrive.auth import GoogleAuth\n",
        "from pydrive.drive import GoogleDrive\n",
        "from google.colab import auth\n",
        "from oauth2client.client import GoogleCredentials\n",
        "import os\n",
        "\n",
        "import pickle\n",
        "\n",
        "auth.authenticate_user()\n",
        "gauth = GoogleAuth()\n",
        "gauth.credentials = GoogleCredentials.get_application_default()\n",
        "drive = GoogleDrive(gauth)"
      ],
      "execution_count": 0,
      "outputs": []
    },
    {
      "cell_type": "code",
      "metadata": {
        "id": "4_Y7RfPNu0tm",
        "colab_type": "code",
        "colab": {}
      },
      "source": [
        "import pandas as pd\n",
        "import numpy as np\n",
        "import matplotlib.pyplot as plt\n",
        "\n",
        "%matplotlib inline"
      ],
      "execution_count": 0,
      "outputs": []
    },
    {
      "cell_type": "markdown",
      "metadata": {
        "id": "xZhM1fc_pjjs",
        "colab_type": "text"
      },
      "source": [
        "# Load Data"
      ]
    },
    {
      "cell_type": "code",
      "metadata": {
        "id": "l99NIOwspdpy",
        "colab_type": "code",
        "colab": {}
      },
      "source": [
        "id_id2page_dict = \"1DGeJYGuF5fTnruZz84ZaBGelakRcKiKf\"\n",
        "id_page_value = \"1pj3SN3DPY-78haG786CA2-ceOjIJ5ScW\""
      ],
      "execution_count": 0,
      "outputs": []
    },
    {
      "cell_type": "code",
      "metadata": {
        "id": "M6QEed-0pYLC",
        "colab_type": "code",
        "colab": {}
      },
      "source": [
        "def load_data_from_drive(id):\n",
        "  downloaded = drive.CreateFile({'id':id}) \n",
        "  downloaded.GetContentFile('Filename.csv')  \n",
        "  data = pickle.load(open('Filename.csv', 'rb'))\n",
        "  return data"
      ],
      "execution_count": 0,
      "outputs": []
    },
    {
      "cell_type": "code",
      "metadata": {
        "id": "lb7ZxNecuVNW",
        "colab_type": "code",
        "colab": {}
      },
      "source": [
        "id2page_dict = load_data_from_drive(id_id2page_dict)"
      ],
      "execution_count": 0,
      "outputs": []
    },
    {
      "cell_type": "code",
      "metadata": {
        "id": "aMwV6mXgEqcs",
        "colab_type": "code",
        "colab": {}
      },
      "source": [
        "id2page_dict = id2page_dict.to_dict()"
      ],
      "execution_count": 0,
      "outputs": []
    },
    {
      "cell_type": "code",
      "metadata": {
        "id": "DOQOp75epX3C",
        "colab_type": "code",
        "colab": {}
      },
      "source": [
        "def get_dataframe(id):\n",
        "  downloaded = drive.CreateFile({'id':id}) \n",
        "  downloaded.GetContentFile('Filename.csv') \n",
        "  df = pd.read_csv('Filename.csv')\n",
        "  return df"
      ],
      "execution_count": 0,
      "outputs": []
    },
    {
      "cell_type": "code",
      "metadata": {
        "id": "G2Wdth_vu6_X",
        "colab_type": "code",
        "colab": {}
      },
      "source": [
        "page_value = get_pickle(id_page_value)"
      ],
      "execution_count": 0,
      "outputs": []
    },
    {
      "cell_type": "markdown",
      "metadata": {
        "id": "L65aBCy7pmWd",
        "colab_type": "text"
      },
      "source": [
        "# Getting Page Rewards"
      ]
    },
    {
      "cell_type": "code",
      "metadata": {
        "id": "3NfvYtx6ySlO",
        "colab_type": "code",
        "colab": {}
      },
      "source": [
        "pages = list(id2page_dict.keys())\n",
        "pages_series = pd.Series(pages)"
      ],
      "execution_count": 0,
      "outputs": []
    },
    {
      "cell_type": "code",
      "metadata": {
        "id": "VeUOsLTEx979",
        "colab_type": "code",
        "colab": {}
      },
      "source": [
        "#dataframe with title, bounce rate, page value\n",
        "page_metrics = page_value[['Page Title','Bounce Rate', 'Page Value']]"
      ],
      "execution_count": 0,
      "outputs": []
    },
    {
      "cell_type": "code",
      "metadata": {
        "id": "NHokz7BY7qor",
        "colab_type": "code",
        "outputId": "5afc4ee9-0448-47c6-a61b-64a0d068e714",
        "colab": {
          "base_uri": "https://localhost:8080/",
          "height": 195
        }
      },
      "source": [
        "page_metrics.head()"
      ],
      "execution_count": 0,
      "outputs": [
        {
          "output_type": "execute_result",
          "data": {
            "text/html": [
              "<div>\n",
              "<style scoped>\n",
              "    .dataframe tbody tr th:only-of-type {\n",
              "        vertical-align: middle;\n",
              "    }\n",
              "\n",
              "    .dataframe tbody tr th {\n",
              "        vertical-align: top;\n",
              "    }\n",
              "\n",
              "    .dataframe thead th {\n",
              "        text-align: right;\n",
              "    }\n",
              "</style>\n",
              "<table border=\"1\" class=\"dataframe\">\n",
              "  <thead>\n",
              "    <tr style=\"text-align: right;\">\n",
              "      <th></th>\n",
              "      <th>Page Title</th>\n",
              "      <th>Bounce Rate</th>\n",
              "      <th>Page Value</th>\n",
              "    </tr>\n",
              "  </thead>\n",
              "  <tbody>\n",
              "    <tr>\n",
              "      <th>0</th>\n",
              "      <td>Checkout Confirmation</td>\n",
              "      <td>4.00%</td>\n",
              "      <td>160.73</td>\n",
              "    </tr>\n",
              "    <tr>\n",
              "      <th>1</th>\n",
              "      <td>Nest® Cam IQ Outdoor - USA</td>\n",
              "      <td>52.63%</td>\n",
              "      <td>126.22</td>\n",
              "    </tr>\n",
              "    <tr>\n",
              "      <th>2</th>\n",
              "      <td>Google Women's Tee Grey</td>\n",
              "      <td>57.14%</td>\n",
              "      <td>115.57</td>\n",
              "    </tr>\n",
              "    <tr>\n",
              "      <th>3</th>\n",
              "      <td>Nest® Learning Thermostat 3rd Gen-USA - White</td>\n",
              "      <td>30.00%</td>\n",
              "      <td>114.70</td>\n",
              "    </tr>\n",
              "    <tr>\n",
              "      <th>4</th>\n",
              "      <td>Checkout Review</td>\n",
              "      <td>17.39%</td>\n",
              "      <td>114.14</td>\n",
              "    </tr>\n",
              "  </tbody>\n",
              "</table>\n",
              "</div>"
            ],
            "text/plain": [
              "                                      Page Title Bounce Rate  Page Value\n",
              "0                          Checkout Confirmation       4.00%      160.73\n",
              "1                     Nest® Cam IQ Outdoor - USA      52.63%      126.22\n",
              "2                        Google Women's Tee Grey      57.14%      115.57\n",
              "3  Nest® Learning Thermostat 3rd Gen-USA - White      30.00%      114.70\n",
              "4                                Checkout Review      17.39%      114.14"
            ]
          },
          "metadata": {
            "tags": []
          },
          "execution_count": 220
        }
      ]
    },
    {
      "cell_type": "code",
      "metadata": {
        "id": "K8ETJoiy73dz",
        "colab_type": "code",
        "outputId": "2d36fbee-4aa9-4d53-eebf-18bb80b8185b",
        "colab": {
          "base_uri": "https://localhost:8080/",
          "height": 138
        }
      },
      "source": [
        "page_metrics['Page Value'] = page_metrics['Page Value'].str.replace('$','').astype(float)"
      ],
      "execution_count": 0,
      "outputs": [
        {
          "output_type": "stream",
          "text": [
            "/usr/local/lib/python3.6/dist-packages/ipykernel_launcher.py:1: SettingWithCopyWarning: \n",
            "A value is trying to be set on a copy of a slice from a DataFrame.\n",
            "Try using .loc[row_indexer,col_indexer] = value instead\n",
            "\n",
            "See the caveats in the documentation: http://pandas.pydata.org/pandas-docs/stable/indexing.html#indexing-view-versus-copy\n",
            "  \"\"\"Entry point for launching an IPython kernel.\n"
          ],
          "name": "stderr"
        }
      ]
    },
    {
      "cell_type": "code",
      "metadata": {
        "id": "7R-j7GHlKKn7",
        "colab_type": "code",
        "outputId": "8905de65-236f-40e5-82dc-d43bef7cd0bd",
        "colab": {
          "base_uri": "https://localhost:8080/",
          "height": 138
        }
      },
      "source": [
        "page_metrics['Bounce Rate'] = page_metrics['Bounce Rate'].str.replace('%','').astype(float)"
      ],
      "execution_count": 0,
      "outputs": [
        {
          "output_type": "stream",
          "text": [
            "/usr/local/lib/python3.6/dist-packages/ipykernel_launcher.py:1: SettingWithCopyWarning: \n",
            "A value is trying to be set on a copy of a slice from a DataFrame.\n",
            "Try using .loc[row_indexer,col_indexer] = value instead\n",
            "\n",
            "See the caveats in the documentation: http://pandas.pydata.org/pandas-docs/stable/indexing.html#indexing-view-versus-copy\n",
            "  \"\"\"Entry point for launching an IPython kernel.\n"
          ],
          "name": "stderr"
        }
      ]
    },
    {
      "cell_type": "code",
      "metadata": {
        "id": "v3pUKwRt7BXi",
        "colab_type": "code",
        "outputId": "a20ee9f2-87e0-4748-8722-2246d4391ffa",
        "colab": {
          "base_uri": "https://localhost:8080/",
          "height": 138
        }
      },
      "source": [
        "page_metrics['Bounce Rate'] = page_metrics['Bounce Rate']/100"
      ],
      "execution_count": 0,
      "outputs": [
        {
          "output_type": "stream",
          "text": [
            "/usr/local/lib/python3.6/dist-packages/ipykernel_launcher.py:1: SettingWithCopyWarning: \n",
            "A value is trying to be set on a copy of a slice from a DataFrame.\n",
            "Try using .loc[row_indexer,col_indexer] = value instead\n",
            "\n",
            "See the caveats in the documentation: http://pandas.pydata.org/pandas-docs/stable/indexing.html#indexing-view-versus-copy\n",
            "  \"\"\"Entry point for launching an IPython kernel.\n"
          ],
          "name": "stderr"
        }
      ]
    },
    {
      "cell_type": "markdown",
      "metadata": {
        "id": "phyqGiu2QCBZ",
        "colab_type": "text"
      },
      "source": [
        "** Percent of Profitable Pages**"
      ]
    },
    {
      "cell_type": "code",
      "metadata": {
        "id": "nQLA7alT5Fmh",
        "colab_type": "code",
        "outputId": "68b07d59-b549-409e-8481-c48536725687",
        "colab": {
          "base_uri": "https://localhost:8080/",
          "height": 34
        }
      },
      "source": [
        "len(page_metrics[page_metrics['Page Value'] >0]['Page Value'])/len(page_metrics['Page Value'])"
      ],
      "execution_count": 0,
      "outputs": [
        {
          "output_type": "execute_result",
          "data": {
            "text/plain": [
              "0.21545827633378933"
            ]
          },
          "metadata": {
            "tags": []
          },
          "execution_count": 207
        }
      ]
    },
    {
      "cell_type": "markdown",
      "metadata": {
        "id": "orcPopORAODq",
        "colab_type": "text"
      },
      "source": [
        "# Spot Selection"
      ]
    },
    {
      "cell_type": "code",
      "metadata": {
        "id": "gffq4g095zoL",
        "colab_type": "code",
        "colab": {}
      },
      "source": [
        "pagevalues_dict = dict.fromkeys(pages, 0)"
      ],
      "execution_count": 0,
      "outputs": []
    },
    {
      "cell_type": "code",
      "metadata": {
        "id": "E8mWE93jLBqb",
        "colab_type": "code",
        "colab": {}
      },
      "source": [
        "bounce_dict = dict.fromkeys(pages, 0)"
      ],
      "execution_count": 0,
      "outputs": []
    },
    {
      "cell_type": "code",
      "metadata": {
        "id": "pt_NhBcTCbRk",
        "colab_type": "code",
        "colab": {}
      },
      "source": [
        "titles = page_metrics['Page Title'].values\n",
        "values = page_metrics['Page Value'].values"
      ],
      "execution_count": 0,
      "outputs": []
    },
    {
      "cell_type": "code",
      "metadata": {
        "id": "mTUG9ttWDRdm",
        "colab_type": "code",
        "colab": {}
      },
      "source": [
        "bounce = page_metrics['Bounce Rate'].values"
      ],
      "execution_count": 0,
      "outputs": []
    },
    {
      "cell_type": "code",
      "metadata": {
        "id": "vA5yAZlhJs85",
        "colab_type": "code",
        "outputId": "99d1262c-4c6a-438e-c2e3-71b7164b76dc",
        "colab": {
          "base_uri": "https://localhost:8080/",
          "height": 34
        }
      },
      "source": [
        "type(values_dict.keys())"
      ],
      "execution_count": 0,
      "outputs": [
        {
          "output_type": "execute_result",
          "data": {
            "text/plain": [
              "dict_keys"
            ]
          },
          "metadata": {
            "tags": []
          },
          "execution_count": 164
        }
      ]
    },
    {
      "cell_type": "code",
      "metadata": {
        "id": "GzyYDivx5rUW",
        "colab_type": "code",
        "colab": {}
      },
      "source": [
        "def check_page(values_dictionary, page_metrics_df, full_titles_list):\n",
        "  titles = list(values_dictionary.keys())\n",
        "  for i in range(len(titles)):\n",
        "    #get title\n",
        "    title_name = titles[i]\n",
        "    \n",
        "    try:\n",
        "      \n",
        "      #check if title is in page dictionary\n",
        "      #values_dictionary[title_name]\n",
        "      value = page_metrics[page_metrics['Page Title'].str.contains(title_name)]['Page Value'].values\n",
        "      \n",
        "      \n",
        "      #add title: page_value to dictionary\n",
        "      values_dictionary[title_name] = float(value[0])\n",
        "    except:\n",
        "      pass\n",
        "    \n",
        "  return values_dictionary"
      ],
      "execution_count": 0,
      "outputs": []
    },
    {
      "cell_type": "code",
      "metadata": {
        "id": "H2DRCiM0EaIA",
        "colab_type": "code",
        "colab": {}
      },
      "source": [
        "check_page(pagevalues_dict, page_metrics, values)"
      ],
      "execution_count": 0,
      "outputs": []
    },
    {
      "cell_type": "code",
      "metadata": {
        "id": "JUyZdrQ2L55V",
        "colab_type": "code",
        "colab": {}
      },
      "source": [
        "bounce_dict"
      ],
      "execution_count": 0,
      "outputs": []
    },
    {
      "cell_type": "code",
      "metadata": {
        "id": "Az6_A3MoK8sM",
        "colab_type": "code",
        "colab": {}
      },
      "source": [
        "def check_page_bounce(bounce_dictionary, page_metrics_df, full_titles_list):\n",
        "  titles = list(bounce_dictionary.keys())\n",
        "  for i in range(len(titles)):\n",
        "    #get title\n",
        "    title_name = titles[i]\n",
        "    \n",
        "    try:\n",
        "      \n",
        "      #check if title is in page dictionary\n",
        "      #values_dictionary[title_name]\n",
        "      bounce = page_metrics[page_metrics['Page Title'].str.contains(title_name)]['Bounce Rate'].values\n",
        "      \n",
        "      \n",
        "      #add title: page_value to dictionary\n",
        "      bounce_dictionary[title_name] = float(bounce[0])\n",
        "    except:\n",
        "      pass\n",
        "    \n",
        "  return bounce_dictionary"
      ],
      "execution_count": 0,
      "outputs": []
    },
    {
      "cell_type": "code",
      "metadata": {
        "id": "LnNHOq5dLiZL",
        "colab_type": "code",
        "outputId": "4f2c2c26-5887-47c6-9354-a89092ee5605",
        "colab": {
          "base_uri": "https://localhost:8080/",
          "height": 2974
        }
      },
      "source": [
        "check_page_bounce(bounce_dict, page_metrics, bounce)"
      ],
      "execution_count": 0,
      "outputs": [
        {
          "output_type": "execute_result",
          "data": {
            "text/plain": [
              "{'20 oz Stainless Steel Insulated Tumbler': 0,\n",
              " '26 oz Double Wall Insulated Bottle': 0,\n",
              " 'Accessories': 0.0,\n",
              " 'Android': 0.5192,\n",
              " 'Android Glass Water Bottle with Black Sleeve': 0,\n",
              " \"Android Men's Vintage Henley\": 0,\n",
              " \"Android Men's Vintage Tee\": 0,\n",
              " \"Android Men's Zip Hoodie\": 0,\n",
              " 'Android Rise 14 oz Mug': 0,\n",
              " 'Android Toddler Short Sleeve T-shirt Pewter': 0,\n",
              " 'Android Toddler Short Sleeve T-shirt Pink': 0,\n",
              " \"Android Women's Fleece Hoodie\": 0,\n",
              " \"Android Women's Short Sleeve Hero Tee Black\": 0,\n",
              " 'Android Youth Short Sleeve T-shirt Pewter': 0,\n",
              " 'Apparel': 0.4303,\n",
              " 'Backpacks': 0.4731,\n",
              " 'Badge Holder': 0,\n",
              " 'Bags': 0.3721,\n",
              " 'Bic Intensity Clic Gel Pen': 0,\n",
              " 'Bic Leather Pen': 0,\n",
              " 'Brands': 0,\n",
              " 'Checkout Confirmation': 0.04,\n",
              " 'Checkout Review': 0.1739,\n",
              " 'Checkout Your Information': 0.10710000000000001,\n",
              " 'Color Changing Grip Pen': 0,\n",
              " 'Compact Eco Journal': 0,\n",
              " 'Drinkware': 0.4754,\n",
              " 'Electronics': 0.7143,\n",
              " 'Frequently Asked Questions': 0.7279000000000001,\n",
              " 'Fun': 0.3922,\n",
              " 'Gift Cards': 0.5331,\n",
              " 'Google': 0.5714,\n",
              " 'Google Baby Essentials Set': 0,\n",
              " 'Google Electronics Accessory Pouch': 0,\n",
              " 'Google Heavyweight Long Sleeve Hero Tee Burgundy': 0,\n",
              " 'Google Heavyweight Long Sleeve Hero Tee Navy': 0,\n",
              " 'Google Long Sleeve Raglan Badge Henley Ocean Blue': 0,\n",
              " \"Google Men's 100% Cotton Short Sleeve Hero Tee Black\": 0,\n",
              " \"Google Men's 100% Cotton Short Sleeve Hero Tee Navy\": 0,\n",
              " \"Google Men's 100% Cotton Short Sleeve Hero Tee Red\": 0,\n",
              " \"Google Men's 100% Cotton Short Sleeve Hero Tee White\": 0,\n",
              " \"Google Men's Airflow 1/4 Zip Pullover Black\": 0,\n",
              " \"Google Men's Airflow 1/4 Zip Pullover Lapis\": 0,\n",
              " \"Google Men's Lightweight Microfleece Jacket Black\": 0,\n",
              " \"Google Men's Performance 1/4 Zip Pullover Heather/Black\": 0,\n",
              " \"Google Men's Performance Full Zip Jacket Black\": 0,\n",
              " \"Google Men's Performance Polo Grey/Black\": 0,\n",
              " \"Google Men's Pullover Hoodie\": 0,\n",
              " \"Google Men's Quilted Insulated Vest Black\": 0,\n",
              " \"Google Men's Short Sleeve Hero Tee Light Blue\": 0,\n",
              " \"Google Men's Short Sleeve Performance Badge Tee Black\": 0,\n",
              " \"Google Men's Skater Tee Charcoal\": 0,\n",
              " \"Google Men's Skater Tee Grey\": 0,\n",
              " \"Google Men's Softshell Jacket Black/Grey\": 0.5,\n",
              " \"Google Men's Vintage Badge Tee Black\": 0,\n",
              " \"Google Men's Vintage Badge Tee Green\": 0,\n",
              " \"Google Men's Vintage Badge Tee White\": 0,\n",
              " \"Google Men's Watershed Full Zip Hoodie Grey\": 0,\n",
              " \"Google Men's Weatherblock Shell Jacket Black\": 0,\n",
              " \"Google Men's Zip Hoodie\": 0,\n",
              " 'Google Power Bank': 0,\n",
              " 'Google Toddler Hoodie Royal Blue': 0,\n",
              " 'Google Toddler Short Sleeve T-shirt Grey': 0,\n",
              " 'Google Toddler Short Sleeve T-shirt Royal Blue': 0,\n",
              " 'Google Trucker Hat': 0.40619999999999995,\n",
              " \"Google Women's 1/4 Zip Jacket Charcoal\": 0,\n",
              " \"Google Women's Convertible Vest-Jacket Sea Foam Green\": 0,\n",
              " \"Google Women's Fleece Hoodie\": 0,\n",
              " \"Google Women's Hero V-Neck Tee White\": 0,\n",
              " \"Google Women's Performance Full Zip Jacket Black\": 0,\n",
              " \"Google Women's Scoop Neck Tee Green\": 0,\n",
              " \"Google Women's Scoop Neck Tee White\": 0,\n",
              " \"Google Women's Short Sleeve Hero Tee White\": 0.0,\n",
              " \"Google Women's Short Sleeve Performance Tee Navy\": 0,\n",
              " \"Google Women's Short Sleeve Performance Tee Pewter\": 0,\n",
              " \"Google Women's Short Sleeve Shirt Blue\": 0,\n",
              " \"Google Women's Short Sleeve V-Neck Tee Stone\": 0,\n",
              " \"Google Women's Tee Grey\": 0.5714,\n",
              " \"Google Women's V-Neck Tee Charcoal\": 0,\n",
              " \"Google Women's Weatherblock Shell Jacket Black\": 0,\n",
              " \"Google Women's Yoga Pants\": 0,\n",
              " 'Google Womens 3/4 Sleeve Baseball Raglan Heather/Black': 0,\n",
              " 'Google Youth Short Sleeve T-shirt Yellow': 0,\n",
              " 'Headgear': 0.4089,\n",
              " 'Home': 0.2779,\n",
              " 'Insulated Bottle': 0,\n",
              " \"Kid's\": 0,\n",
              " \"Kid's-Infant\": 0,\n",
              " \"Kid's-Toddler\": 0,\n",
              " 'Kids': 0.3962,\n",
              " 'Kids-Youth': 0,\n",
              " 'Koozie Can Kooler': 0,\n",
              " 'Lifestyle': 0.46259999999999996,\n",
              " 'Limited Supply': 0,\n",
              " \"Men's\": 0.52,\n",
              " \"Men's T-Shirts\": 0.3848,\n",
              " \"Men's-Outerwear\": 0,\n",
              " \"Men's-T-Shirts\": 0,\n",
              " 'Office': 0.0,\n",
              " 'Page Unavailable': 0.48710000000000003,\n",
              " 'PaperMate Ink Joy Retractable Pen': 0,\n",
              " 'Parker Gunmetal CT Ball Pen': 0,\n",
              " 'Payment Method': 0.5385,\n",
              " 'Return Policy': 0.7451000000000001,\n",
              " 'Satin Black Ballpoint Pen': 0,\n",
              " 'Set of 3 Nested Travel Cases': 0,\n",
              " 'Shipping Information': 0.6315,\n",
              " 'Shop by Brand': 0.3945,\n",
              " 'Shopping Cart': 0.3532,\n",
              " 'Stickers': 0.5473,\n",
              " 'Store search results': 0.47659999999999997,\n",
              " 'Terms of Use': 0.6793,\n",
              " 'The Google Merchandise Store - Log In': 0.2245,\n",
              " 'The Google Merchandise Store - My Account': 0.467,\n",
              " 'The Google Merchandise Store - Register': 0.25129999999999997,\n",
              " 'The Google Merchandise Store/1 oz Hand Sanitizer': 0,\n",
              " 'The Google Merchandise Store/14 oz Jumbo Ceramic Mug': 0,\n",
              " 'The Google Merchandise Store/16 oz. Hot/Cold Tumbler': 0,\n",
              " 'The Google Merchandise Store/22 oz Android Bottle': 0,\n",
              " 'The Google Merchandise Store/22 oz Mini Mountain Bottle': 0,\n",
              " 'The Google Merchandise Store/22 oz YouTube Bottle Infuser': 0,\n",
              " 'The Google Merchandise Store/24 oz YouTube Sergeant Stripe Bottle': 0,\n",
              " 'The Google Merchandise Store/7\" Dog Safe Flyer': 0,\n",
              " 'The Google Merchandise Store/ATOM Wireless Earbud Headset': 0,\n",
              " 'The Google Merchandise Store/Android 24 oz Contigo Bottle': 0,\n",
              " 'The Google Merchandise Store/BRIGHTtravels Seat Pack Organizer': 0,\n",
              " 'The Google Merchandise Store/BRIGHTtravels Set of 3 Packing Cubes': 0,\n",
              " 'The Google Merchandise Store/Ballpoint & Matching Tube Case': 0,\n",
              " 'The Google Merchandise Store/Ballpoint LED Light Pen': 0.5625,\n",
              " 'The Google Merchandise Store/Basecamp Explorer Powerbank Flashlight': 0,\n",
              " 'The Google Merchandise Store/Bic Tri Tone Twist Pen': 0,\n",
              " 'The Google Merchandise Store/Blue Keeper Notebook Set with Flap': 0,\n",
              " 'The Google Merchandise Store/Blue Metallic Textured Spiral Notebook Set': 0,\n",
              " 'The Google Merchandise Store/Bottle Opener Clip': 0,\n",
              " 'The Google Merchandise Store/Colored Pencil Set': 0,\n",
              " 'The Google Merchandise Store/Compact Selfie Stick': 0,\n",
              " 'The Google Merchandise Store/Crunch-It Dog Toy': 0,\n",
              " 'The Google Merchandise Store/Deluge Waterproof Backpack': 0,\n",
              " 'The Google Merchandise Store/Eco-Aware Large Recycled Journal Combo': 0,\n",
              " 'The Google Merchandise Store/Galaxy Screen Cleaning Cloth': 0,\n",
              " 'The Google Merchandise Store/Gift Card - $25.00': 0,\n",
              " 'The Google Merchandise Store/Grip Kit Cable Organizer': 0,\n",
              " 'The Google Merchandise Store/Latitudes Foldaway Shopper': 0,\n",
              " 'The Google Merchandise Store/Leatherette Journal': 0.2857,\n",
              " 'The Google Merchandise Store/Malibu Sunglasses': 0.5974,\n",
              " 'The Google Merchandise Store/Maze Pen': 0.521,\n",
              " 'The Google Merchandise Store/Metal Earbuds with Small Zipper Case': 0,\n",
              " 'The Google Merchandise Store/Mistral Rucksack': 0,\n",
              " 'The Google Merchandise Store/Oasis Backpack': 0,\n",
              " 'The Google Merchandise Store/PaperMate Ink Joy RT Pen': 0,\n",
              " 'The Google Merchandise Store/Pen Pencil & Highlighter Set': 0,\n",
              " 'The Google Merchandise Store/Plastic Sliding Flashlight': 0,\n",
              " 'The Google Merchandise Store/Pop-a-Point Crayon': 0,\n",
              " 'The Google Merchandise Store/PowerClip Lightning Charger': 0,\n",
              " 'The Google Merchandise Store/Red Spiral Google Notebook': 0.875,\n",
              " 'The Google Merchandise Store/Rocket Flashlight': 0,\n",
              " 'The Google Merchandise Store/Solo Pro Backpack': 0,\n",
              " 'The Google Merchandise Store/Straw Beach Mat': 0,\n",
              " 'The Google Merchandise Store/Svanasana Yoga Block': 0,\n",
              " 'The Google Merchandise Store/UFO Bluetooth Water Resistant Speaker': 0,\n",
              " 'The Google Merchandise Store/Waterpoof Gear Bag': 0,\n",
              " 'The Google Merchandise Store/Windup Android': 0.44329999999999997,\n",
              " 'Vestiti-T-shirt': 0,\n",
              " 'Wearables': 0.0,\n",
              " \"Women's\": 0.5714,\n",
              " \"Women's-Outerwear\": 0,\n",
              " \"Women's-T-Shirts\": 0,\n",
              " 'Yoga Mat': 0,\n",
              " 'YouTube': 0.5839,\n",
              " \"YouTube Men's 3/4 Sleeve Henley\": 0,\n",
              " \"YouTube Men's Short Sleeve Hero Tee Black\": 0,\n",
              " \"YouTube Men's Short Sleeve Hero Tee White\": 0,\n",
              " \"YouTube Men's Vintage Tank\": 0,\n",
              " 'YouTube Trucker Hat': 0,\n",
              " 'Your Wishlist': 0.0,\n",
              " 'Дома': 0.0}"
            ]
          },
          "metadata": {
            "tags": []
          },
          "execution_count": 233
        }
      ]
    },
    {
      "cell_type": "code",
      "metadata": {
        "id": "mUUVViA9M7HB",
        "colab_type": "code",
        "colab": {}
      },
      "source": [
        "list({k: v for k, v in pagevalues_dict.items() if v > 0}.values()).sort()"
      ],
      "execution_count": 0,
      "outputs": []
    },
    {
      "cell_type": "code",
      "metadata": {
        "id": "W1Lc_AA8LESo",
        "colab_type": "code",
        "colab": {}
      },
      "source": [
        "rewards_dict = dict.fromkeys(pages, 0)"
      ],
      "execution_count": 0,
      "outputs": []
    },
    {
      "cell_type": "code",
      "metadata": {
        "id": "tgZUaziyEda9",
        "colab_type": "code",
        "colab": {}
      },
      "source": [
        "def get_rewards(pagevalues_dict, rewards_dict):\n",
        "  counter = 0\n",
        "  for k,v in pagevalues_dict.items():\n",
        "    if pagevalues_dict[k] != 0:\n",
        "      rewards_dict[k] = 1\n",
        "      counter +=1\n",
        "    else:\n",
        "      rewards_dict[k] = 0\n",
        "      \n",
        "  return rewards_dict, counter"
      ],
      "execution_count": 0,
      "outputs": []
    },
    {
      "cell_type": "code",
      "metadata": {
        "id": "J6VcTJTAE3VU",
        "colab_type": "code",
        "outputId": "e9ae39d5-dd50-41bf-b72b-e48998745ded",
        "colab": {
          "base_uri": "https://localhost:8080/",
          "height": 2990
        }
      },
      "source": [
        "get_rewards(pagevalues_dict, rewards_dict)"
      ],
      "execution_count": 0,
      "outputs": [
        {
          "output_type": "execute_result",
          "data": {
            "text/plain": [
              "({'20 oz Stainless Steel Insulated Tumbler': 0,\n",
              "  '26 oz Double Wall Insulated Bottle': 0,\n",
              "  'Accessories': 1,\n",
              "  'Android': 1,\n",
              "  'Android Glass Water Bottle with Black Sleeve': 0,\n",
              "  \"Android Men's Vintage Henley\": 0,\n",
              "  \"Android Men's Vintage Tee\": 0,\n",
              "  \"Android Men's Zip Hoodie\": 0,\n",
              "  'Android Rise 14 oz Mug': 0,\n",
              "  'Android Toddler Short Sleeve T-shirt Pewter': 0,\n",
              "  'Android Toddler Short Sleeve T-shirt Pink': 0,\n",
              "  \"Android Women's Fleece Hoodie\": 0,\n",
              "  \"Android Women's Short Sleeve Hero Tee Black\": 0,\n",
              "  'Android Youth Short Sleeve T-shirt Pewter': 0,\n",
              "  'Apparel': 1,\n",
              "  'Backpacks': 1,\n",
              "  'Badge Holder': 0,\n",
              "  'Bags': 1,\n",
              "  'Bic Intensity Clic Gel Pen': 0,\n",
              "  'Bic Leather Pen': 0,\n",
              "  'Brands': 0,\n",
              "  'Checkout Confirmation': 1,\n",
              "  'Checkout Review': 1,\n",
              "  'Checkout Your Information': 1,\n",
              "  'Color Changing Grip Pen': 0,\n",
              "  'Compact Eco Journal': 0,\n",
              "  'Drinkware': 1,\n",
              "  'Electronics': 1,\n",
              "  'Frequently Asked Questions': 1,\n",
              "  'Fun': 1,\n",
              "  'Gift Cards': 1,\n",
              "  'Google': 1,\n",
              "  'Google Baby Essentials Set': 0,\n",
              "  'Google Electronics Accessory Pouch': 0,\n",
              "  'Google Heavyweight Long Sleeve Hero Tee Burgundy': 0,\n",
              "  'Google Heavyweight Long Sleeve Hero Tee Navy': 0,\n",
              "  'Google Long Sleeve Raglan Badge Henley Ocean Blue': 0,\n",
              "  \"Google Men's 100% Cotton Short Sleeve Hero Tee Black\": 0,\n",
              "  \"Google Men's 100% Cotton Short Sleeve Hero Tee Navy\": 0,\n",
              "  \"Google Men's 100% Cotton Short Sleeve Hero Tee Red\": 0,\n",
              "  \"Google Men's 100% Cotton Short Sleeve Hero Tee White\": 0,\n",
              "  \"Google Men's Airflow 1/4 Zip Pullover Black\": 0,\n",
              "  \"Google Men's Airflow 1/4 Zip Pullover Lapis\": 0,\n",
              "  \"Google Men's Lightweight Microfleece Jacket Black\": 0,\n",
              "  \"Google Men's Performance 1/4 Zip Pullover Heather/Black\": 0,\n",
              "  \"Google Men's Performance Full Zip Jacket Black\": 0,\n",
              "  \"Google Men's Performance Polo Grey/Black\": 0,\n",
              "  \"Google Men's Pullover Hoodie\": 0,\n",
              "  \"Google Men's Quilted Insulated Vest Black\": 0,\n",
              "  \"Google Men's Short Sleeve Hero Tee Light Blue\": 0,\n",
              "  \"Google Men's Short Sleeve Performance Badge Tee Black\": 0,\n",
              "  \"Google Men's Skater Tee Charcoal\": 0,\n",
              "  \"Google Men's Skater Tee Grey\": 0,\n",
              "  \"Google Men's Softshell Jacket Black/Grey\": 0,\n",
              "  \"Google Men's Vintage Badge Tee Black\": 0,\n",
              "  \"Google Men's Vintage Badge Tee Green\": 0,\n",
              "  \"Google Men's Vintage Badge Tee White\": 0,\n",
              "  \"Google Men's Watershed Full Zip Hoodie Grey\": 0,\n",
              "  \"Google Men's Weatherblock Shell Jacket Black\": 0,\n",
              "  \"Google Men's Zip Hoodie\": 0,\n",
              "  'Google Power Bank': 0,\n",
              "  'Google Toddler Hoodie Royal Blue': 0,\n",
              "  'Google Toddler Short Sleeve T-shirt Grey': 0,\n",
              "  'Google Toddler Short Sleeve T-shirt Royal Blue': 0,\n",
              "  'Google Trucker Hat': 1,\n",
              "  \"Google Women's 1/4 Zip Jacket Charcoal\": 0,\n",
              "  \"Google Women's Convertible Vest-Jacket Sea Foam Green\": 0,\n",
              "  \"Google Women's Fleece Hoodie\": 0,\n",
              "  \"Google Women's Hero V-Neck Tee White\": 0,\n",
              "  \"Google Women's Performance Full Zip Jacket Black\": 0,\n",
              "  \"Google Women's Scoop Neck Tee Green\": 0,\n",
              "  \"Google Women's Scoop Neck Tee White\": 0,\n",
              "  \"Google Women's Short Sleeve Hero Tee White\": 1,\n",
              "  \"Google Women's Short Sleeve Performance Tee Navy\": 0,\n",
              "  \"Google Women's Short Sleeve Performance Tee Pewter\": 0,\n",
              "  \"Google Women's Short Sleeve Shirt Blue\": 0,\n",
              "  \"Google Women's Short Sleeve V-Neck Tee Stone\": 0,\n",
              "  \"Google Women's Tee Grey\": 1,\n",
              "  \"Google Women's V-Neck Tee Charcoal\": 0,\n",
              "  \"Google Women's Weatherblock Shell Jacket Black\": 0,\n",
              "  \"Google Women's Yoga Pants\": 0,\n",
              "  'Google Womens 3/4 Sleeve Baseball Raglan Heather/Black': 0,\n",
              "  'Google Youth Short Sleeve T-shirt Yellow': 0,\n",
              "  'Headgear': 1,\n",
              "  'Home': 1,\n",
              "  'Insulated Bottle': 0,\n",
              "  \"Kid's\": 0,\n",
              "  \"Kid's-Infant\": 0,\n",
              "  \"Kid's-Toddler\": 0,\n",
              "  'Kids': 1,\n",
              "  'Kids-Youth': 0,\n",
              "  'Koozie Can Kooler': 0,\n",
              "  'Lifestyle': 0,\n",
              "  'Limited Supply': 0,\n",
              "  \"Men's\": 1,\n",
              "  \"Men's T-Shirts\": 1,\n",
              "  \"Men's-Outerwear\": 0,\n",
              "  \"Men's-T-Shirts\": 0,\n",
              "  'Office': 1,\n",
              "  'Page Unavailable': 1,\n",
              "  'PaperMate Ink Joy Retractable Pen': 0,\n",
              "  'Parker Gunmetal CT Ball Pen': 0,\n",
              "  'Payment Method': 1,\n",
              "  'Return Policy': 1,\n",
              "  'Satin Black Ballpoint Pen': 0,\n",
              "  'Set of 3 Nested Travel Cases': 0,\n",
              "  'Shipping Information': 1,\n",
              "  'Shop by Brand': 1,\n",
              "  'Shopping Cart': 1,\n",
              "  'Stickers': 1,\n",
              "  'Store search results': 1,\n",
              "  'Terms of Use': 1,\n",
              "  'The Google Merchandise Store - Log In': 1,\n",
              "  'The Google Merchandise Store - My Account': 1,\n",
              "  'The Google Merchandise Store - Register': 1,\n",
              "  'The Google Merchandise Store/1 oz Hand Sanitizer': 0,\n",
              "  'The Google Merchandise Store/14 oz Jumbo Ceramic Mug': 0,\n",
              "  'The Google Merchandise Store/16 oz. Hot/Cold Tumbler': 0,\n",
              "  'The Google Merchandise Store/22 oz Android Bottle': 0,\n",
              "  'The Google Merchandise Store/22 oz Mini Mountain Bottle': 0,\n",
              "  'The Google Merchandise Store/22 oz YouTube Bottle Infuser': 0,\n",
              "  'The Google Merchandise Store/24 oz YouTube Sergeant Stripe Bottle': 0,\n",
              "  'The Google Merchandise Store/7\" Dog Safe Flyer': 0,\n",
              "  'The Google Merchandise Store/ATOM Wireless Earbud Headset': 0,\n",
              "  'The Google Merchandise Store/Android 24 oz Contigo Bottle': 0,\n",
              "  'The Google Merchandise Store/BRIGHTtravels Seat Pack Organizer': 0,\n",
              "  'The Google Merchandise Store/BRIGHTtravels Set of 3 Packing Cubes': 0,\n",
              "  'The Google Merchandise Store/Ballpoint & Matching Tube Case': 0,\n",
              "  'The Google Merchandise Store/Ballpoint LED Light Pen': 1,\n",
              "  'The Google Merchandise Store/Basecamp Explorer Powerbank Flashlight': 0,\n",
              "  'The Google Merchandise Store/Bic Tri Tone Twist Pen': 0,\n",
              "  'The Google Merchandise Store/Blue Keeper Notebook Set with Flap': 0,\n",
              "  'The Google Merchandise Store/Blue Metallic Textured Spiral Notebook Set': 0,\n",
              "  'The Google Merchandise Store/Bottle Opener Clip': 0,\n",
              "  'The Google Merchandise Store/Colored Pencil Set': 0,\n",
              "  'The Google Merchandise Store/Compact Selfie Stick': 0,\n",
              "  'The Google Merchandise Store/Crunch-It Dog Toy': 0,\n",
              "  'The Google Merchandise Store/Deluge Waterproof Backpack': 0,\n",
              "  'The Google Merchandise Store/Eco-Aware Large Recycled Journal Combo': 0,\n",
              "  'The Google Merchandise Store/Galaxy Screen Cleaning Cloth': 0,\n",
              "  'The Google Merchandise Store/Gift Card - $25.00': 0,\n",
              "  'The Google Merchandise Store/Grip Kit Cable Organizer': 0,\n",
              "  'The Google Merchandise Store/Latitudes Foldaway Shopper': 0,\n",
              "  'The Google Merchandise Store/Leatherette Journal': 1,\n",
              "  'The Google Merchandise Store/Malibu Sunglasses': 1,\n",
              "  'The Google Merchandise Store/Maze Pen': 1,\n",
              "  'The Google Merchandise Store/Metal Earbuds with Small Zipper Case': 0,\n",
              "  'The Google Merchandise Store/Mistral Rucksack': 0,\n",
              "  'The Google Merchandise Store/Oasis Backpack': 0,\n",
              "  'The Google Merchandise Store/PaperMate Ink Joy RT Pen': 0,\n",
              "  'The Google Merchandise Store/Pen Pencil & Highlighter Set': 0,\n",
              "  'The Google Merchandise Store/Plastic Sliding Flashlight': 0,\n",
              "  'The Google Merchandise Store/Pop-a-Point Crayon': 0,\n",
              "  'The Google Merchandise Store/PowerClip Lightning Charger': 0,\n",
              "  'The Google Merchandise Store/Red Spiral Google Notebook': 1,\n",
              "  'The Google Merchandise Store/Rocket Flashlight': 0,\n",
              "  'The Google Merchandise Store/Solo Pro Backpack': 0,\n",
              "  'The Google Merchandise Store/Straw Beach Mat': 0,\n",
              "  'The Google Merchandise Store/Svanasana Yoga Block': 0,\n",
              "  'The Google Merchandise Store/UFO Bluetooth Water Resistant Speaker': 0,\n",
              "  'The Google Merchandise Store/Waterpoof Gear Bag': 0,\n",
              "  'The Google Merchandise Store/Windup Android': 1,\n",
              "  'Vestiti-T-shirt': 0,\n",
              "  'Wearables': 0,\n",
              "  \"Women's\": 1,\n",
              "  \"Women's-Outerwear\": 0,\n",
              "  \"Women's-T-Shirts\": 0,\n",
              "  'Yoga Mat': 0,\n",
              "  'YouTube': 1,\n",
              "  \"YouTube Men's 3/4 Sleeve Henley\": 0,\n",
              "  \"YouTube Men's Short Sleeve Hero Tee Black\": 0,\n",
              "  \"YouTube Men's Short Sleeve Hero Tee White\": 0,\n",
              "  \"YouTube Men's Vintage Tank\": 0,\n",
              "  'YouTube Trucker Hat': 0,\n",
              "  'Your Wishlist': 1,\n",
              "  'Дома': 0},\n",
              " 44)"
            ]
          },
          "metadata": {
            "tags": []
          },
          "execution_count": 182
        }
      ]
    },
    {
      "cell_type": "code",
      "metadata": {
        "id": "m8zInXdiL0Fe",
        "colab_type": "code",
        "colab": {}
      },
      "source": [
        "output = open('pagevalues_dict.pkl', 'wb')\n",
        "pickle.dump(pagevalues_dict,output)"
      ],
      "execution_count": 0,
      "outputs": []
    },
    {
      "cell_type": "code",
      "metadata": {
        "id": "1VPQ8oVLLp8E",
        "colab_type": "code",
        "colab": {}
      },
      "source": [
        "from google.colab import files\n",
        "files.download('pagevalues_dict.pkl')"
      ],
      "execution_count": 0,
      "outputs": []
    },
    {
      "cell_type": "code",
      "metadata": {
        "id": "YBk9zvY2MJXy",
        "colab_type": "code",
        "colab": {}
      },
      "source": [
        "output = open('bounce_dict.pkl', 'wb')\n",
        "pickle.dump(bounce_dict,output)"
      ],
      "execution_count": 0,
      "outputs": []
    },
    {
      "cell_type": "code",
      "metadata": {
        "id": "qRi-jLDbLgVB",
        "colab_type": "code",
        "colab": {}
      },
      "source": [
        "from google.colab import files\n",
        "files.download('bounce_dict.pkl')"
      ],
      "execution_count": 0,
      "outputs": []
    },
    {
      "cell_type": "code",
      "metadata": {
        "id": "MacrD5ksLkZx",
        "colab_type": "code",
        "colab": {}
      },
      "source": [
        ""
      ],
      "execution_count": 0,
      "outputs": []
    }
  ]
}